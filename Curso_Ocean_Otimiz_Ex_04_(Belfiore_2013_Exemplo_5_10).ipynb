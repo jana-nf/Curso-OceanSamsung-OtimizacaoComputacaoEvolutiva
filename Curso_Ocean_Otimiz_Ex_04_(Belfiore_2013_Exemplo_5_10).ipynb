{
  "nbformat": 4,
  "nbformat_minor": 0,
  "metadata": {
    "colab": {
      "provenance": [],
      "gpuType": "T4",
      "include_colab_link": true
    },
    "kernelspec": {
      "name": "ir",
      "display_name": "R"
    },
    "language_info": {
      "name": "R"
    },
    "accelerator": "GPU"
  },
  "cells": [
    {
      "cell_type": "markdown",
      "metadata": {
        "id": "view-in-github",
        "colab_type": "text"
      },
      "source": [
        "<a href=\"https://colab.research.google.com/github/jana-nf/Curso-OceanSamsung-OtimizacaoComputacaoEvolutiva/blob/main/Curso_Ocean_Otimiz_Ex_04_(Belfiore_2013_Exemplo_5_10).ipynb\" target=\"_parent\"><img src=\"https://colab.research.google.com/assets/colab-badge.svg\" alt=\"Open In Colab\"/></a>"
      ]
    },
    {
      "cell_type": "code",
      "execution_count": 1,
      "metadata": {
        "colab": {
          "base_uri": "https://localhost:8080/"
        },
        "id": "ZHJDgjij4sxh",
        "outputId": "480672a2-8aa0-4882-ec1a-01d8b8d41020"
      },
      "outputs": [
        {
          "output_type": "stream",
          "name": "stderr",
          "text": [
            "Installing package into ‘/usr/local/lib/R/site-library’\n",
            "(as ‘lib’ is unspecified)\n",
            "\n"
          ]
        }
      ],
      "source": [
        "install.packages(\"lpSolve\") #pacote para programação linear"
      ]
    },
    {
      "cell_type": "code",
      "source": [
        "library(lpSolve)"
      ],
      "metadata": {
        "id": "rJf73u9gEhYG"
      },
      "execution_count": 2,
      "outputs": []
    },
    {
      "cell_type": "code",
      "source": [
        "library(readxl)\n",
        "f.con <- read_excel(\"/content/f.con_Exemplo alocacao.xlsx\")\n",
        "f.con\n",
        "dim(f.con)"
      ],
      "metadata": {
        "colab": {
          "base_uri": "https://localhost:8080/",
          "height": 304
        },
        "id": "wO-BL3fy5o1P",
        "outputId": "03b0bf44-6cd1-47af-ed5f-5654aaad6437"
      },
      "execution_count": 5,
      "outputs": [
        {
          "output_type": "display_data",
          "data": {
            "text/html": [
              "<table class=\"dataframe\">\n",
              "<caption>A tibble: 6 × 9</caption>\n",
              "<thead>\n",
              "\t<tr><th scope=col>x11</th><th scope=col>x12</th><th scope=col>x13</th><th scope=col>x21</th><th scope=col>x22</th><th scope=col>x23</th><th scope=col>x31</th><th scope=col>x32</th><th scope=col>x33</th></tr>\n",
              "\t<tr><th scope=col>&lt;dbl&gt;</th><th scope=col>&lt;dbl&gt;</th><th scope=col>&lt;dbl&gt;</th><th scope=col>&lt;dbl&gt;</th><th scope=col>&lt;dbl&gt;</th><th scope=col>&lt;dbl&gt;</th><th scope=col>&lt;dbl&gt;</th><th scope=col>&lt;dbl&gt;</th><th scope=col>&lt;dbl&gt;</th></tr>\n",
              "</thead>\n",
              "<tbody>\n",
              "\t<tr><td>1</td><td>1</td><td>1</td><td>0</td><td>0</td><td>0</td><td>0</td><td>0</td><td>0</td></tr>\n",
              "\t<tr><td>0</td><td>0</td><td>0</td><td>1</td><td>1</td><td>1</td><td>0</td><td>0</td><td>0</td></tr>\n",
              "\t<tr><td>0</td><td>0</td><td>0</td><td>0</td><td>0</td><td>0</td><td>1</td><td>1</td><td>1</td></tr>\n",
              "\t<tr><td>1</td><td>0</td><td>0</td><td>1</td><td>0</td><td>0</td><td>1</td><td>0</td><td>0</td></tr>\n",
              "\t<tr><td>0</td><td>1</td><td>0</td><td>0</td><td>1</td><td>0</td><td>0</td><td>1</td><td>0</td></tr>\n",
              "\t<tr><td>0</td><td>0</td><td>1</td><td>0</td><td>0</td><td>1</td><td>0</td><td>0</td><td>1</td></tr>\n",
              "</tbody>\n",
              "</table>\n"
            ],
            "text/markdown": "\nA tibble: 6 × 9\n\n| x11 &lt;dbl&gt; | x12 &lt;dbl&gt; | x13 &lt;dbl&gt; | x21 &lt;dbl&gt; | x22 &lt;dbl&gt; | x23 &lt;dbl&gt; | x31 &lt;dbl&gt; | x32 &lt;dbl&gt; | x33 &lt;dbl&gt; |\n|---|---|---|---|---|---|---|---|---|\n| 1 | 1 | 1 | 0 | 0 | 0 | 0 | 0 | 0 |\n| 0 | 0 | 0 | 1 | 1 | 1 | 0 | 0 | 0 |\n| 0 | 0 | 0 | 0 | 0 | 0 | 1 | 1 | 1 |\n| 1 | 0 | 0 | 1 | 0 | 0 | 1 | 0 | 0 |\n| 0 | 1 | 0 | 0 | 1 | 0 | 0 | 1 | 0 |\n| 0 | 0 | 1 | 0 | 0 | 1 | 0 | 0 | 1 |\n\n",
            "text/latex": "A tibble: 6 × 9\n\\begin{tabular}{lllllllll}\n x11 & x12 & x13 & x21 & x22 & x23 & x31 & x32 & x33\\\\\n <dbl> & <dbl> & <dbl> & <dbl> & <dbl> & <dbl> & <dbl> & <dbl> & <dbl>\\\\\n\\hline\n\t 1 & 1 & 1 & 0 & 0 & 0 & 0 & 0 & 0\\\\\n\t 0 & 0 & 0 & 1 & 1 & 1 & 0 & 0 & 0\\\\\n\t 0 & 0 & 0 & 0 & 0 & 0 & 1 & 1 & 1\\\\\n\t 1 & 0 & 0 & 1 & 0 & 0 & 1 & 0 & 0\\\\\n\t 0 & 1 & 0 & 0 & 1 & 0 & 0 & 1 & 0\\\\\n\t 0 & 0 & 1 & 0 & 0 & 1 & 0 & 0 & 1\\\\\n\\end{tabular}\n",
            "text/plain": [
              "  x11 x12 x13 x21 x22 x23 x31 x32 x33\n",
              "1 1   1   1   0   0   0   0   0   0  \n",
              "2 0   0   0   1   1   1   0   0   0  \n",
              "3 0   0   0   0   0   0   1   1   1  \n",
              "4 1   0   0   1   0   0   1   0   0  \n",
              "5 0   1   0   0   1   0   0   1   0  \n",
              "6 0   0   1   0   0   1   0   0   1  "
            ]
          },
          "metadata": {}
        },
        {
          "output_type": "display_data",
          "data": {
            "text/html": [
              "<style>\n",
              ".list-inline {list-style: none; margin:0; padding: 0}\n",
              ".list-inline>li {display: inline-block}\n",
              ".list-inline>li:not(:last-child)::after {content: \"\\00b7\"; padding: 0 .5ex}\n",
              "</style>\n",
              "<ol class=list-inline><li>6</li><li>9</li></ol>\n"
            ],
            "text/markdown": "1. 6\n2. 9\n\n\n",
            "text/latex": "\\begin{enumerate*}\n\\item 6\n\\item 9\n\\end{enumerate*}\n",
            "text/plain": [
              "[1] 6 9"
            ]
          },
          "metadata": {}
        }
      ]
    },
    {
      "cell_type": "code",
      "source": [
        "# Modelagem do problema\n",
        "\n",
        "f.obj <- c(8,10,12,15,13,12,8,12,10)\n",
        "f.dir <- c(\"==\",\"==\",\"==\",\"==\",\"==\",\"==\")\n",
        "f.rhs <- c(1,1,1,1,1,1)\n",
        "\n",
        "# valores das variáveis de decisão\n",
        "lp(\"min\",f.obj, f.con, f.dir, f.rhs)$solution"
      ],
      "metadata": {
        "colab": {
          "base_uri": "https://localhost:8080/",
          "height": 34
        },
        "id": "HZ9qO8BG8Y_g",
        "outputId": "a6588c05-e4e2-407f-d795-6e86f7646937"
      },
      "execution_count": 6,
      "outputs": [
        {
          "output_type": "display_data",
          "data": {
            "text/html": [
              "<style>\n",
              ".list-inline {list-style: none; margin:0; padding: 0}\n",
              ".list-inline>li {display: inline-block}\n",
              ".list-inline>li:not(:last-child)::after {content: \"\\00b7\"; padding: 0 .5ex}\n",
              "</style>\n",
              "<ol class=list-inline><li>0</li><li>1</li><li>0</li><li>0</li><li>0</li><li>1</li><li>1</li><li>0</li><li>0</li></ol>\n"
            ],
            "text/markdown": "1. 0\n2. 1\n3. 0\n4. 0\n5. 0\n6. 1\n7. 1\n8. 0\n9. 0\n\n\n",
            "text/latex": "\\begin{enumerate*}\n\\item 0\n\\item 1\n\\item 0\n\\item 0\n\\item 0\n\\item 1\n\\item 1\n\\item 0\n\\item 0\n\\end{enumerate*}\n",
            "text/plain": [
              "[1] 0 1 0 0 0 1 1 0 0"
            ]
          },
          "metadata": {}
        }
      ]
    },
    {
      "cell_type": "code",
      "source": [
        "# valor da função objetivo (Z)\n",
        "lp(\"min\",f.obj, f.con, f.dir, f.rhs)"
      ],
      "metadata": {
        "id": "pvfs_Jsq8lR4",
        "outputId": "6c7c5288-9fb4-4bdd-8f12-8deda3192b14",
        "colab": {
          "base_uri": "https://localhost:8080/",
          "height": 34
        }
      },
      "execution_count": 7,
      "outputs": [
        {
          "output_type": "display_data",
          "data": {
            "text/plain": [
              "Success: the objective function is 30 "
            ]
          },
          "metadata": {}
        }
      ]
    }
  ]
}