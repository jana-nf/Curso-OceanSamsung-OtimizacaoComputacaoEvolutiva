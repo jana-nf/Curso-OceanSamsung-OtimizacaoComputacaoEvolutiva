{
  "nbformat": 4,
  "nbformat_minor": 0,
  "metadata": {
    "colab": {
      "provenance": [],
      "include_colab_link": true
    },
    "kernelspec": {
      "name": "ir",
      "display_name": "R"
    },
    "language_info": {
      "name": "R"
    }
  },
  "cells": [
    {
      "cell_type": "markdown",
      "metadata": {
        "id": "view-in-github",
        "colab_type": "text"
      },
      "source": [
        "<a href=\"https://colab.research.google.com/github/jana-nf/Curso-OceanSamsung-OtimizacaoComputacaoEvolutiva/blob/main/Curso_Ocean_Otimiz_Ex_03_(Arenales_2007_Exemplo_2_1).ipynb\" target=\"_parent\"><img src=\"https://colab.research.google.com/assets/colab-badge.svg\" alt=\"Open In Colab\"/></a>"
      ]
    },
    {
      "cell_type": "code",
      "source": [
        "install.packages(\"lpSolve\") #pacote para programação linear"
      ],
      "metadata": {
        "id": "L7mi6RvaNqww",
        "colab": {
          "base_uri": "https://localhost:8080/"
        },
        "outputId": "c9e63511-1bee-4af1-92c1-1836bfb5d146"
      },
      "execution_count": 1,
      "outputs": [
        {
          "output_type": "stream",
          "name": "stderr",
          "text": [
            "Installing package into ‘/usr/local/lib/R/site-library’\n",
            "(as ‘lib’ is unspecified)\n",
            "\n"
          ]
        }
      ]
    },
    {
      "cell_type": "code",
      "source": [
        "library(lpSolve)"
      ],
      "metadata": {
        "id": "rJf73u9gEhYG"
      },
      "execution_count": 2,
      "outputs": []
    },
    {
      "cell_type": "code",
      "source": [
        "# Modelagem do problema\n",
        "f.obj <- c(0.56,0.81,0.46)\n",
        "f.con <- matrix(c(0.2,0.5,0.4,\n",
        "                  0.6,0.4,0.4,\n",
        "                  1,1,1), nrow=3, byrow=TRUE)\n",
        "f.dir <- c(\">=\",\">=\",\"==\")\n",
        "f.rhs <- c(0.3,0.5,1)\n",
        "\n",
        "f.con"
      ],
      "metadata": {
        "colab": {
          "base_uri": "https://localhost:8080/",
          "height": 146
        },
        "id": "wO-BL3fy5o1P",
        "outputId": "b71496ca-264a-4982-d426-5c17e97dc6a6"
      },
      "execution_count": 3,
      "outputs": [
        {
          "output_type": "display_data",
          "data": {
            "text/html": [
              "<table class=\"dataframe\">\n",
              "<caption>A matrix: 3 × 3 of type dbl</caption>\n",
              "<tbody>\n",
              "\t<tr><td>0.2</td><td>0.5</td><td>0.4</td></tr>\n",
              "\t<tr><td>0.6</td><td>0.4</td><td>0.4</td></tr>\n",
              "\t<tr><td>1.0</td><td>1.0</td><td>1.0</td></tr>\n",
              "</tbody>\n",
              "</table>\n"
            ],
            "text/markdown": "\nA matrix: 3 × 3 of type dbl\n\n| 0.2 | 0.5 | 0.4 |\n| 0.6 | 0.4 | 0.4 |\n| 1.0 | 1.0 | 1.0 |\n\n",
            "text/latex": "A matrix: 3 × 3 of type dbl\n\\begin{tabular}{lll}\n\t 0.2 & 0.5 & 0.4\\\\\n\t 0.6 & 0.4 & 0.4\\\\\n\t 1.0 & 1.0 & 1.0\\\\\n\\end{tabular}\n",
            "text/plain": [
              "     [,1] [,2] [,3]\n",
              "[1,] 0.2  0.5  0.4 \n",
              "[2,] 0.6  0.4  0.4 \n",
              "[3,] 1.0  1.0  1.0 "
            ]
          },
          "metadata": {}
        }
      ]
    },
    {
      "cell_type": "code",
      "source": [
        "# valores das variáveis de decisão (x1, x2, x3)\n",
        "lp(\"min\",f.obj, f.con, f.dir, f.rhs)$solution"
      ],
      "metadata": {
        "id": "n3jsaoeW68n6",
        "outputId": "dc0986ca-52a2-4a6e-9a64-9098514522a0",
        "colab": {
          "base_uri": "https://localhost:8080/",
          "height": 34
        }
      },
      "execution_count": 4,
      "outputs": [
        {
          "output_type": "display_data",
          "data": {
            "text/html": [
              "<style>\n",
              ".list-inline {list-style: none; margin:0; padding: 0}\n",
              ".list-inline>li {display: inline-block}\n",
              ".list-inline>li:not(:last-child)::after {content: \"\\00b7\"; padding: 0 .5ex}\n",
              "</style>\n",
              "<ol class=list-inline><li>0.5</li><li>0</li><li>0.5</li></ol>\n"
            ],
            "text/markdown": "1. 0.5\n2. 0\n3. 0.5\n\n\n",
            "text/latex": "\\begin{enumerate*}\n\\item 0.5\n\\item 0\n\\item 0.5\n\\end{enumerate*}\n",
            "text/plain": [
              "[1] 0.5 0.0 0.5"
            ]
          },
          "metadata": {}
        }
      ]
    },
    {
      "cell_type": "code",
      "source": [
        "# valor da função objetivo (Z)\n",
        "lp(\"min\",f.obj, f.con, f.dir, f.rhs, compute.sens = TRUE)"
      ],
      "metadata": {
        "id": "L7RVzCEJ6-Fi",
        "outputId": "61c47566-0940-4857-a4c8-1a10d58e73a9",
        "colab": {
          "base_uri": "https://localhost:8080/",
          "height": 34
        }
      },
      "execution_count": 5,
      "outputs": [
        {
          "output_type": "display_data",
          "data": {
            "text/plain": [
              "Success: the objective function is 0.51 "
            ]
          },
          "metadata": {}
        }
      ]
    }
  ]
}